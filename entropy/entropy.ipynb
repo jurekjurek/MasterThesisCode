{
 "cells": [
  {
   "cell_type": "code",
   "execution_count": 1,
   "metadata": {},
   "outputs": [
    {
     "data": {
      "text/plain": [
       "'\\nIn this file, we calculate the von neumann entropy of a series of diagrams. \\n\\nWe compare them to each other in the hope of finding that more ambiguous (less disambiguated sentences) have higher entropy. \\n\\n'"
      ]
     },
     "execution_count": 1,
     "metadata": {},
     "output_type": "execute_result"
    }
   ],
   "source": [
    "'''\n",
    "In this file, we calculate the von neumann entropy of a series of diagrams. \n",
    "\n",
    "We compare them to each other in the hope of finding that more ambiguous (less disambiguated sentences) have higher entropy. \n",
    "\n",
    "'''\n",
    "\n"
   ]
  },
  {
   "cell_type": "code",
   "execution_count": 2,
   "metadata": {},
   "outputs": [
    {
     "name": "stderr",
     "output_type": "stream",
     "text": [
      "/home/bob/anaconda3/envs/code/lib/python3.9/site-packages/numpy/core/getlimits.py:542: UserWarning: Signature b'\\x00\\xd0\\xcc\\xcc\\xcc\\xcc\\xcc\\xcc\\xfb\\xbf\\x00\\x00\\x00\\x00\\x00\\x00' for <class 'numpy.longdouble'> does not match any known type: falling back to type probe function.\n",
      "This warnings indicates broken support for the dtype!\n",
      "  machar = _get_machar(dtype)\n"
     ]
    }
   ],
   "source": [
    "'''\n",
    "start by importing all sorts of stuff\n",
    "'''\n",
    "\n",
    "\n",
    "import numpy as np\n",
    "from sympy import Symbol, symbols\n",
    "\n",
    "from lambeq.ansatz import BaseAnsatz\n",
    "from lambeq.backend.grammar import Box, Diagram, Functor, Ty\n",
    "from lambeq.backend.quantum import (\n",
    "    Bra,\n",
    "    CRz,\n",
    "    Diagram as Circuit,\n",
    "    Discard,\n",
    "    H,\n",
    "    CX,\n",
    "    Id,\n",
    "    Ket,\n",
    "    quantum,\n",
    "    qubit,\n",
    "    Rotation,\n",
    "    Rx, Ry, Rz\n",
    ")\n",
    "\n",
    "from lambeq import AtomicType\n"
   ]
  },
  {
   "cell_type": "code",
   "execution_count": 3,
   "metadata": {},
   "outputs": [],
   "source": [
    "'''\n",
    "Note that for this program, we do not have to import test data. \n",
    "We test the entropy for sentences crafted in the program especially for the program. \n",
    "\n",
    "We write three functions for three types of sentences: \n",
    "1. The normal way of parsing \n",
    "2. Alice runs and Bob does too \n",
    "3. Alice cooks food and eats it. \n",
    "'''\n",
    "\n",
    "from lambeq import BobcatParser\n",
    "parser = BobcatParser(verbose='text')\n",
    "from lambeq import RemoveCupsRewriter\n",
    "remove_cups = RemoveCupsRewriter()\n",
    "from lambeq import AtomicType, IQPAnsatz\n",
    "ansatz = IQPAnsatz({AtomicType.NOUN: 1, AtomicType.SENTENCE: 1},\n",
    "                   n_layers=1, n_single_qubit_params=3)\n",
    "from lambeq.backend.grammar import (Box, Cap, Cup, Diagram, Diagrammable,\n",
    "                                    Functor, grammar, Id, Spider, Swap,\n",
    "                                    Ty, Word)\n",
    "from lambeq import AtomicType\n",
    "N = AtomicType.NOUN\n",
    "S = AtomicType.SENTENCE\n",
    "n, s = Ty('n'), Ty('s')\n",
    "\n",
    "# create three functions for three types of diagrams\n",
    "\n",
    "def GijsDiag(sentence:str): \n",
    "    '''\n",
    "    This function, given a sentence of the form: \n",
    "    Subj Verb Obj and Subj* does too\n",
    "    , returns a diagram that copies the information in such a way that the returned diagram reads: \n",
    "    Subj Verb Obj and Subj* Verb Obj\n",
    "    The object will be removed later to work with density matrices. \n",
    "    '''\n",
    "    wordList = sentence.split()\n",
    "    grammar = (Spider(n, 2, 1) @ Id(n.r) @ Id(s) @ Cup(n.l, n) >> \n",
    "            Cup(n, n.r) @ Id(s) )\n",
    "    newWords = [\n",
    "        Word(wordList[0], n),\n",
    "        Word(wordList[4], n),\n",
    "        Word(wordList[1], n.r @ s @ n.l), \n",
    "        Word(wordList[2], n)\n",
    "    ]\n",
    "\n",
    "    diagram = Id().tensor(*newWords) >> grammar\n",
    "    diagram = remove_cups(diagram)\n",
    "    diagram.draw()\n",
    "\n",
    "    circuit = ansatz(diagram= diagram)\n",
    "\n",
    "    return circuit#, diagram \n",
    "\n",
    "def NaiveDiag(sentence:str):\n",
    "    '''\n",
    "    Simply returns a naive circuit given a diagram\n",
    "    '''\n",
    "    diagram = parser.sentence2diagram(sentence= sentence, suppress_exceptions=True)\n",
    "\n",
    "    diagram = remove_cups(diagram)\n",
    "\n",
    "    circuit = ansatz(diagram= diagram)\n",
    "\n",
    "    return circuit#, diagram\n",
    "\n",
    "def AmbiguousVerb(sentence:str):\n",
    "    '''\n",
    "    This function, given a sentence like: \n",
    "    Subj Verb Obj and Verb* it. (Man prepares dinner and eats it.) \n",
    "    returns a diagram that copies the information, so that: \n",
    "    Subj Verb Obj and Subj Verb* Obj\n",
    "    The object will be removed later \n",
    "    '''\n",
    "    wordList = sentence.split()\n",
    "    grammar = (Spider(n, 1, 2) @ Id(n.r) @ Id(s) @ Id(n.l) @ Spider(n, 1, 2)  >> \n",
    "                Id(n) @ Cup(n, n.r) @ Id(s) @ Cup(n.l, n) @ Id(n) >> \n",
    "                Id(n) @ Word(wordList[4], n.r @ s @ n.l) @ Id(s) @ Id(n) >> \n",
    "                Cup(n, n.r) @ Id(s) @ Swap(n.l, s) @ Id(n) >> \n",
    "                Spider(s, 2, 1) @ Cup(n.l, n))\n",
    "    newWords = [\n",
    "        Word(wordList[0], n),\n",
    "        Word(wordList[1], n.r @ s @ n.l),\n",
    "        Word(wordList[2], n)\n",
    "    ]\n",
    "\n",
    "\n",
    "    diagram = Id().tensor(*newWords) >> grammar\n",
    "    diagram = remove_cups(diagram)\n",
    "    circuit = ansatz(diagram= diagram)\n",
    "\n",
    "    return circuit#, diagram\n",
    "\n",
    "\n"
   ]
  },
  {
   "cell_type": "code",
   "execution_count": 4,
   "metadata": {},
   "outputs": [
    {
     "data": {
      "image/png": "[encoded data removed]",
      "text/plain": [
       "<Figure size 640x480 with 1 Axes>"
      ]
     },
     "metadata": {},
     "output_type": "display_data"
    }
   ],
   "source": [
    "naiveSentences = ['person prepares meal']\n",
    "\n",
    "gijsSentences = ['person prepares meal and chef does too']\n",
    "\n",
    "mySentences = ['person prepares meal and cooks it']\n",
    "\n",
    "naiveCircuits = []\n",
    "gijsCircuits  = []\n",
    "myCircuits    = []\n",
    "\n",
    "\n",
    "for nS in naiveSentences: \n",
    "    naiveCircuits.append(NaiveDiag(nS))\n",
    "\n",
    "for gS in gijsSentences: \n",
    "    gijsCircuits.append(GijsDiag(gS))\n",
    "\n",
    "for mS in mySentences: \n",
    "    myCircuits.append(AmbiguousVerb(mS))\n"
   ]
  },
  {
   "cell_type": "code",
   "execution_count": 5,
   "metadata": {},
   "outputs": [],
   "source": [
    "'''\n",
    "import the functions needed to set up the diagrams using the trained weights \n",
    "'''\n",
    "\n",
    "from entropyHelpers import *\n"
   ]
  },
  {
   "cell_type": "code",
   "execution_count": 6,
   "metadata": {},
   "outputs": [],
   "source": [
    "'''\n",
    "import trained weights \n",
    "'''\n",
    "# one of these two is wordsToForget\n",
    "wordsToForgetSubj = ['man', 'woman', 'person']\n",
    "wordsToForgetObj  = ['dinner', 'meal', 'sauce', 'program', 'application', 'software']\n",
    "\n",
    "# load dictionary with pickle\n",
    "import pickle \n",
    "\n",
    "# Numpymodel \n",
    "with open('../datasets/weightsDictNPGijs.pkl', 'rb') as fp: \n",
    "    parameterDictNP = pickle.load(fp)\n",
    "\n",
    "# Numpymodel \n",
    "with open('../datasets/weightsDictTKGijs.pkl', 'rb') as fp: \n",
    "    parameterDictTK = pickle.load(fp)\n",
    "\n",
    "# Pennylane model \n",
    "with open('../datasets/weightsDictPLGijs.pkl', 'rb') as fp: \n",
    "    parameterDictPL = pickle.load(fp)\n"
   ]
  },
  {
   "cell_type": "code",
   "execution_count": 7,
   "metadata": {},
   "outputs": [
    {
     "name": "stdout",
     "output_type": "stream",
     "text": [
      "iteration number:  0\n"
     ]
    },
    {
     "name": "stderr",
     "output_type": "stream",
     "text": [
      "huggingface/tokenizers: The current process just got forked, after parallelism has already been used. Disabling parallelism to avoid deadlocks...\n",
      "To disable this warning, you can either:\n",
      "\t- Avoid using `tokenizers` before the fork if possible\n",
      "\t- Explicitly set the environment variable TOKENIZERS_PARALLELISM=(true | false)\n",
      "huggingface/tokenizers: The current process just got forked, after parallelism has already been used. Disabling parallelism to avoid deadlocks...\n",
      "To disable this warning, you can either:\n",
      "\t- Avoid using `tokenizers` before the fork if possible\n",
      "\t- Explicitly set the environment variable TOKENIZERS_PARALLELISM=(true | false)\n",
      "huggingface/tokenizers: The current process just got forked, after parallelism has already been used. Disabling parallelism to avoid deadlocks...\n",
      "To disable this warning, you can either:\n",
      "\t- Avoid using `tokenizers` before the fork if possible\n",
      "\t- Explicitly set the environment variable TOKENIZERS_PARALLELISM=(true | false)\n"
     ]
    },
    {
     "name": "stdout",
     "output_type": "stream",
     "text": [
      "meal†_n__0\n",
      "meal†_n__1\n",
      "meal†_n__2\n",
      "person†_n__0\n",
      "person†_n__1\n",
      "person†_n__2\n",
      "prepares__n.r@s@n.l_0\n",
      "prepares__n.r@s@n.l_1\n"
     ]
    },
    {
     "name": "stderr",
     "output_type": "stream",
     "text": [
      "/home/bob/anaconda3/envs/code/lib/python3.9/site-packages/qiskit/visualization/circuit/matplotlib.py:266: FutureWarning: The default matplotlib drawer scheme will be changed to \"iqp\" in a following release. To silence this warning, specify the current default explicitly as style=\"clifford\", or the new default as style=\"iqp\".\n",
      "  self._style, def_font_ratio = load_style(self._style)\n"
     ]
    },
    {
     "name": "stdout",
     "output_type": "stream",
     "text": [
      "iteration number:  0\n",
      "meal†_n__0\n",
      "meal†_n__1\n",
      "meal†_n__2\n",
      "person†_n__0\n",
      "person†_n__1\n",
      "person†_n__2\n",
      "prepares__n.r@s@n.l_0\n",
      "prepares__n.r@s@n.l_1\n",
      "iteration number:  0\n",
      "meal†_n__0\n",
      "meal†_n__1\n",
      "meal†_n__2\n",
      "person†_n__0\n",
      "person†_n__1\n",
      "person†_n__2\n",
      "prepares__n.r@s@n.l_0\n",
      "prepares__n.r@s@n.l_1\n"
     ]
    }
   ],
   "source": [
    "'''\n",
    "apply the functions\n",
    "'''\n",
    "\n",
    "parameterDict = parameterDictNP\n",
    "parameterDict = parameterDictTK\n",
    "parameterDict = parameterDictPL\n",
    "\n",
    "naiveDMList = []\n",
    "gijsDMList = []\n",
    "myDMList = []\n",
    "\n",
    "for nC in naiveCircuits: \n",
    "    naiveDMList.append(Main(listOfCircuits= [nC], parameterDict= parameterDict, wordsToForget=wordsToForgetObj)[0])\n",
    "\n",
    "for gC in gijsCircuits: \n",
    "    gijsDMList.append(Main(listOfCircuits= [nC], parameterDict= parameterDict, wordsToForget=wordsToForgetObj)[0])\n",
    "\n",
    "for mC in myCircuits:\n",
    "    myDMList.append(Main(listOfCircuits= [nC], parameterDict= parameterDict, wordsToForget=wordsToForgetObj)[0])\n"
   ]
  },
  {
   "cell_type": "code",
   "execution_count": null,
   "metadata": {},
   "outputs": [],
   "source": [
    "print(myDMList)"
   ]
  }
 ],
 "metadata": {
  "kernelspec": {
   "display_name": "code",
   "language": "python",
   "name": "python3"
  },
  "language_info": {
   "codemirror_mode": {
    "name": "ipython",
    "version": 3
   },
   "file_extension": ".py",
   "mimetype": "text/x-python",
   "name": "python",
   "nbconvert_exporter": "python",
   "pygments_lexer": "ipython3",
   "version": "3.9.19"
  }
 },
 "nbformat": 4,
 "nbformat_minor": 2
}
