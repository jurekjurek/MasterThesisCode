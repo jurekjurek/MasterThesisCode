{
 "cells": [
  {
   "cell_type": "code",
   "execution_count": 1,
   "metadata": {},
   "outputs": [
    {
     "data": {
      "text/plain": [
       "'\\nIn this file, we calculate the von neumann entropy of a series of diagrams. \\n\\nWe compare them to each other in the hope of finding that more ambiguous (less disambiguated sentences) have higher entropy. \\n\\n'"
      ]
     },
     "execution_count": 1,
     "metadata": {},
     "output_type": "execute_result"
    }
   ],
   "source": [
    "'''\n",
    "In this file, we calculate the von neumann entropy of a series of diagrams. \n",
    "\n",
    "We compare them to each other in the hope of finding that more ambiguous (less disambiguated sentences) have higher entropy. \n",
    "\n",
    "'''\n",
    "\n"
   ]
  },
  {
   "cell_type": "code",
   "execution_count": 2,
   "metadata": {},
   "outputs": [
    {
     "name": "stderr",
     "output_type": "stream",
     "text": [
      "/home/bob/anaconda3/envs/code/lib/python3.9/site-packages/numpy/core/getlimits.py:542: UserWarning: Signature b'\\x00\\xd0\\xcc\\xcc\\xcc\\xcc\\xcc\\xcc\\xfb\\xbf\\x00\\x00\\x00\\x00\\x00\\x00' for <class 'numpy.longdouble'> does not match any known type: falling back to type probe function.\n",
      "This warnings indicates broken support for the dtype!\n",
      "  machar = _get_machar(dtype)\n"
     ]
    }
   ],
   "source": [
    "'''\n",
    "start by importing all sorts of stuff\n",
    "'''\n",
    "\n",
    "\n",
    "import numpy as np\n",
    "from sympy import Symbol, symbols\n",
    "\n",
    "from lambeq.ansatz import BaseAnsatz\n",
    "from lambeq.backend.grammar import Box, Diagram, Functor, Ty\n",
    "from lambeq.backend.quantum import (\n",
    "    Bra,\n",
    "    CRz,\n",
    "    Diagram as Circuit,\n",
    "    Discard,\n",
    "    H,\n",
    "    CX,\n",
    "    Id,\n",
    "    Ket,\n",
    "    quantum,\n",
    "    qubit,\n",
    "    Rotation,\n",
    "    Rx, Ry, Rz\n",
    ")\n",
    "\n",
    "from lambeq import AtomicType\n"
   ]
  },
  {
   "cell_type": "code",
   "execution_count": 3,
   "metadata": {},
   "outputs": [],
   "source": [
    "'''\n",
    "Note that for this program, we do not have to import test data. \n",
    "We test the entropy for sentences crafted in the program especially for the program. \n",
    "\n",
    "We write three functions for three types of sentences: \n",
    "1. The normal way of parsing \n",
    "2. Alice runs and Bob does too \n",
    "3. Alice cooks food and eats it. \n",
    "'''\n",
    "\n",
    "from lambeq import BobcatParser\n",
    "parser = BobcatParser(verbose='text')\n",
    "from lambeq import RemoveCupsRewriter\n",
    "remove_cups = RemoveCupsRewriter()\n",
    "from lambeq import AtomicType, IQPAnsatz\n",
    "ansatz = IQPAnsatz({AtomicType.NOUN: 1, AtomicType.SENTENCE: 1},\n",
    "                   n_layers=1, n_single_qubit_params=3)\n",
    "from lambeq.backend.grammar import (Box, Cap, Cup, Diagram, Diagrammable,\n",
    "                                    Functor, grammar, Id, Spider, Swap,\n",
    "                                    Ty, Word)\n",
    "from lambeq import AtomicType\n",
    "N = AtomicType.NOUN\n",
    "S = AtomicType.SENTENCE\n",
    "n, s = Ty('n'), Ty('s')\n",
    "\n",
    "# create three functions for three types of diagrams\n",
    "\n",
    "def GijsDiag(sentence:str): \n",
    "    '''\n",
    "    This function, given a sentence of the form: \n",
    "    Subj Verb Obj and Subj* does too\n",
    "    , returns a diagram that copies the information in such a way that the returned diagram reads: \n",
    "    Subj Verb Obj and Subj* Verb Obj\n",
    "    The object will be removed later to work with density matrices. \n",
    "    '''\n",
    "    wordList = sentence.split()\n",
    "    grammar = (Spider(n, 2, 1) @ Id(n.r) @ Id(s) @ Cup(n.l, n) >> \n",
    "            Cup(n, n.r) @ Id(s) )\n",
    "    newWords = [\n",
    "        Word(wordList[0], n),\n",
    "        Word(wordList[4], n),\n",
    "        Word(wordList[1], n.r @ s @ n.l), \n",
    "        Word(wordList[2], n)\n",
    "    ]\n",
    "\n",
    "    diagram = Id().tensor(*newWords) >> grammar\n",
    "    diagram = remove_cups(diagram)\n",
    "    diagram.draw()\n",
    "\n",
    "    circuit = ansatz(diagram= diagram)\n",
    "\n",
    "    return circuit#, diagram \n",
    "\n",
    "def NaiveDiag(sentence:str):\n",
    "    '''\n",
    "    Simply returns a naive circuit given a diagram\n",
    "    '''\n",
    "    diagram = parser.sentence2diagram(sentence= sentence, suppress_exceptions=True)\n",
    "\n",
    "    diagram = remove_cups(diagram)\n",
    "\n",
    "    circuit = ansatz(diagram= diagram)\n",
    "\n",
    "    return circuit#, diagram\n",
    "\n",
    "def AmbiguousVerb(sentence:str):\n",
    "    '''\n",
    "    This function, given a sentence like: \n",
    "    Subj Verb Obj and Verb* it. (Man prepares dinner and eats it.) \n",
    "    returns a diagram that copies the information, so that: \n",
    "    Subj Verb Obj and Subj Verb* Obj\n",
    "    The object will be removed later \n",
    "    '''\n",
    "    wordList = sentence.split()\n",
    "    grammar = (Spider(n, 1, 2) @ Id(n.r) @ Id(s) @ Id(n.l) @ Spider(n, 1, 2)  >> \n",
    "                Id(n) @ Cup(n, n.r) @ Id(s) @ Cup(n.l, n) @ Id(n) >> \n",
    "                Id(n) @ Word(wordList[4], n.r @ s @ n.l) @ Id(s) @ Id(n) >> \n",
    "                Cup(n, n.r) @ Id(s) @ Swap(n.l, s) @ Id(n) >> \n",
    "                Spider(s, 2, 1) @ Cup(n.l, n))\n",
    "    newWords = [\n",
    "        Word(wordList[0], n),\n",
    "        Word(wordList[1], n.r @ s @ n.l),\n",
    "        Word(wordList[2], n)\n",
    "    ]\n",
    "\n",
    "\n",
    "    diagram = Id().tensor(*newWords) >> grammar\n",
    "    diagram = remove_cups(diagram)\n",
    "    circuit = ansatz(diagram= diagram)\n",
    "\n",
    "    return circuit#, diagram\n",
    "\n",
    "\n"
   ]
  },
  {
   "cell_type": "code",
   "execution_count": 4,
   "metadata": {},
   "outputs": [
    {
     "data": {
      "image/png": "[encoded data removed]",
      "text/plain": [
       "<Figure size 640x480 with 1 Axes>"
      ]
     },
     "metadata": {},
     "output_type": "display_data"
    }
   ],
   "source": [
    "naiveSentences = ['person prepares meal']\n",
    "\n",
    "gijsSentences = ['person prepares meal and chef does too']\n",
    "\n",
    "mySentences = ['person prepares meal and cooks it']\n",
    "\n",
    "naiveCircuits = []\n",
    "gijsCircuits  = []\n",
    "myCircuits    = []\n",
    "\n",
    "\n",
    "for nS in naiveSentences: \n",
    "    naiveCircuits.append(NaiveDiag(nS))\n",
    "\n",
    "for gS in gijsSentences: \n",
    "    gijsCircuits.append(GijsDiag(gS))\n",
    "\n",
    "for mS in mySentences: \n",
    "    myCircuits.append(AmbiguousVerb(mS))\n"
   ]
  },
  {
   "cell_type": "code",
   "execution_count": 5,
   "metadata": {},
   "outputs": [],
   "source": [
    "'''\n",
    "import the functions needed to set up the diagrams using the trained weights \n",
    "'''\n",
    "\n",
    "from entropyHelpers import *\n"
   ]
  },
  {
   "cell_type": "code",
   "execution_count": 6,
   "metadata": {},
   "outputs": [],
   "source": [
    "'''\n",
    "import trained weights \n",
    "'''\n",
    "# one of these two is wordsToForget\n",
    "wordsToForgetSubj = ['man', 'woman', 'person']\n",
    "wordsToForgetObj  = ['dinner', 'meal', 'sauce', 'program', 'application', 'software']\n",
    "\n",
    "# load dictionary with pickle\n",
    "import pickle \n",
    "\n",
    "# Numpymodel \n",
    "with open('../datasets/weightsDictNPGijs.pkl', 'rb') as fp: \n",
    "    parameterDictNP = pickle.load(fp)\n",
    "\n",
    "# Numpymodel \n",
    "with open('../datasets/weightsDictTKGijs.pkl', 'rb') as fp: \n",
    "    parameterDictTK = pickle.load(fp)\n",
    "\n",
    "# Pennylane model \n",
    "with open('../datasets/weightsDictPLGijs.pkl', 'rb') as fp: \n",
    "    parameterDictPL = pickle.load(fp)\n"
   ]
  },
  {
   "cell_type": "code",
   "execution_count": 24,
   "metadata": {},
   "outputs": [
    {
     "name": "stdout",
     "output_type": "stream",
     "text": [
      "{'application__n_0': 0.6856788449864877, 'application__n_1': 0.6868690027899309, 'application__n_2': 1.0429703529306649, 'application†_n__0': 0.8053298755643545, 'application†_n__1': 0.6721092175942884, 'application†_n__2': 1.0420022332974377, 'bakes__n.r@s@n.l_0': 0.41439631317020664, 'bakes__n.r@s@n.l_1': 0.9615123109322843, 'chef__n_0': 1.1046601378432108, 'chef__n_1': 0.5133204923561007, 'chef__n_2': 0.7156835531995119, 'chef†_n__0': 0.5655017305120291, 'chef†_n__1': 0.20631939761671805, 'chef†_n__2': 0.8434560912669711, 'cooks__n.r@s@n.l_0': -0.0002406617975029451, 'cooks__n.r@s@n.l_1': -0.08080612353810876, 'dinner__n_0': -0.1686422744068876, 'dinner__n_1': 0.8108153963304197, 'dinner__n_2': 0.6363803096047997, 'dinner†_n__0': 0.6033551862682613, 'dinner†_n__1': 1.263668254862222, 'dinner†_n__2': 0.43470345876008315, 'meal__n_0': 0.2857594803789348, 'meal__n_1': 0.792277711908032, 'meal__n_2': 0.08127100255443524, 'meal†_n__0': 0.2493246554907313, 'meal†_n__1': 0.6122787467857768, 'meal†_n__2': 1.2366109487056258, 'person__n_0': 0.6585945761115032, 'person__n_1': 0.4585117460511307, 'person__n_2': 0.2618822088243224, 'person†_n__0': 0.7487892188259765, 'person†_n__1': 0.8406075036562956, 'person†_n__2': 1.1136953974897774, 'prepares__n.r@s@n.l_0': -0.36251621735661155, 'prepares__n.r@s@n.l_1': 0.9466310455994992, 'program__n_0': 0.7304311767371813, 'program__n_1': 0.6886123880369653, 'program__n_2': 0.9573124394871804, 'programmer__n_0': 0.7565075313707119, 'programmer__n_1': 0.050457435805587, 'programmer__n_2': 0.42614973583214505, 'programmer†_n__0': 0.4992984338585957, 'programmer†_n__1': 0.2767005349734878, 'programmer†_n__2': 1.253424747519201, 'program†_n__0': 0.568280125523363, 'program†_n__1': -0.039012172035369504, 'program†_n__2': 0.1996663645240229, 'reads__n.r@s@n.l_0': -0.023605098022976324, 'reads__n.r@s@n.l_1': 0.797509679141347, 'runs__n.r@s@n.l_0': 0.07660229845545083, 'runs__n.r@s@n.l_1': 0.5802112827105923, 'sauce__n_0': 0.7325042827564882, 'sauce__n_1': -0.250835269481224, 'sauce__n_2': 0.08087823199548405, 'sauce†_n__0': 0.40766470886376793, 'sauce†_n__1': 0.34180346174298826, 'sauce†_n__2': 0.3339869126427245, 'skillful†_n@n.l__0': 0.6861933129833598, 'software__n_0': 0.03452963691332723, 'software__n_1': 0.2621204053130975, 'software__n_2': 0.2161224425350585, 'software†_n__0': 0.7193197901097672, 'software†_n__1': 0.006412307992050395, 'software†_n__2': 0.07844678855925477, 'tasty†_n@n.l__0': -0.09589325313536183, 'useful†_n@n.l__0': 0.6223167098257242}\n",
      "iteration number:  0\n",
      "meal†_n__0\n",
      "meal†_n__1\n",
      "meal†_n__2\n",
      "person†_n__0\n",
      "person†_n__1\n",
      "person†_n__2\n",
      "prepares__n.r@s@n.l_0\n",
      "prepares__n.r@s@n.l_1\n",
      "iteration number:  0\n"
     ]
    },
    {
     "name": "stderr",
     "output_type": "stream",
     "text": [
      "/home/bob/anaconda3/envs/code/lib/python3.9/site-packages/qiskit/visualization/circuit/matplotlib.py:266: FutureWarning: The default matplotlib drawer scheme will be changed to \"iqp\" in a following release. To silence this warning, specify the current default explicitly as style=\"clifford\", or the new default as style=\"iqp\".\n",
      "  self._style, def_font_ratio = load_style(self._style)\n"
     ]
    },
    {
     "name": "stdout",
     "output_type": "stream",
     "text": [
      "meal†_n__0\n",
      "meal†_n__1\n",
      "meal†_n__2\n",
      "person†_n__0\n",
      "person†_n__1\n",
      "person†_n__2\n",
      "prepares__n.r@s@n.l_0\n",
      "prepares__n.r@s@n.l_1\n",
      "iteration number:  0\n",
      "meal†_n__0\n",
      "meal†_n__1\n",
      "meal†_n__2\n",
      "person†_n__0\n",
      "person†_n__1\n",
      "person†_n__2\n",
      "prepares__n.r@s@n.l_0\n",
      "prepares__n.r@s@n.l_1\n"
     ]
    }
   ],
   "source": [
    "'''\n",
    "apply the functions\n",
    "'''\n",
    "\n",
    "parameterDict = parameterDictNP\n",
    "# parameterDict = parameterDictTK\n",
    "# parameterDict = parameterDictPL\n",
    "\n",
    "print(parameterDict)\n",
    "\n",
    "naiveDMList = []\n",
    "gijsDMList = []\n",
    "myDMList = []\n",
    "\n",
    "for nC in naiveCircuits: \n",
    "    naiveDMList.append(Main(listOfCircuits= [nC], parameterDict= parameterDict, wordsToForget=wordsToForgetObj)[0])\n",
    "\n",
    "for gC in gijsCircuits: \n",
    "    gijsDMList.append(Main(listOfCircuits= [nC], parameterDict= parameterDict, wordsToForget=wordsToForgetObj)[0])\n",
    "\n",
    "for mC in myCircuits:\n",
    "    myDMList.append(Main(listOfCircuits= [nC], parameterDict= parameterDict, wordsToForget=wordsToForgetObj)[0])\n"
   ]
  },
  {
   "cell_type": "code",
   "execution_count": 25,
   "metadata": {},
   "outputs": [
    {
     "name": "stdout",
     "output_type": "stream",
     "text": [
      "[[DensityMatrix([[ 0.9302256 +0.j        , -0.00270022-0.08105811j],\n",
      "               [-0.00270022+0.08105811j,  0.0697744 +0.j        ]],\n",
      "              dims=(2,))]]\n"
     ]
    }
   ],
   "source": [
    "print(myDMList)"
   ]
  },
  {
   "cell_type": "code",
   "execution_count": 26,
   "metadata": {},
   "outputs": [],
   "source": [
    "from qiskit.quantum_info import entropy\n",
    "\n",
    "naiveEntropyList = []\n",
    "gijsEntropyList  = []\n",
    "myEntropyList    = []\n",
    "\n",
    "for dM in naiveDMList: \n",
    "    naiveEntropyList.append(entropy(dM[0]))\n",
    "\n",
    "for dM in gijsDMList: \n",
    "    gijsEntropyList.append(entropy(dM[0]))\n",
    "\n",
    "for dM in myDMList: \n",
    "    myEntropyList.append(entropy(dM[0]))\n"
   ]
  },
  {
   "cell_type": "code",
   "execution_count": 27,
   "metadata": {},
   "outputs": [
    {
     "name": "stdout",
     "output_type": "stream",
     "text": [
      "Naive entropy:  [0.3363541893039428]\n",
      "Gijs entropy:  [0.33631509189834036]\n",
      "My entropy: [0.3361037696663139]\n"
     ]
    }
   ],
   "source": [
    "'''\n",
    "Results of Von Neumann Entropy \n",
    "'''\n",
    "\n",
    "print('Naive entropy: ', naiveEntropyList)\n",
    "\n",
    "print('Gijs entropy: ', gijsEntropyList)\n",
    "\n",
    "print('My entropy:', myEntropyList)"
   ]
  },
  {
   "cell_type": "code",
   "execution_count": 85,
   "metadata": {},
   "outputs": [],
   "source": [
    "'''\n",
    "Calculate fidelity between two density matrices\n",
    "'''\n",
    "\n",
    "def Fidelity(rho, sigma): \n",
    "\n",
    "    # from sklearn.preprocessing import normalize\n",
    "\n",
    "    # rho = normalize(rho, norm = 'l1')\n",
    "    # sigma = normalize(sigma, norm = 'l1')\n",
    "\n",
    "    print('trace rho: ', np.trace(rho))\n",
    "    print('trace sigma: ', np.trace(sigma))\n",
    "\n",
    "    # first approach \n",
    "    partI = np.matmul(sigma, np.sqrt(rho))\n",
    "    partII = np.sqrt( np.matmul(np.sqrt(rho), partI) )\n",
    "    partIII = np.trace(partII)\n",
    "    \n",
    "\n",
    "\n",
    "    # # second approach via trace norm\n",
    "    # partIII = np.trace(abs(np.dot( np.sqrt(rho), np.sqrt(sigma)))) ** 2\n",
    "\n",
    "    \n",
    "    return abs(partIII)\n",
    "\n"
   ]
  },
  {
   "cell_type": "code",
   "execution_count": 86,
   "metadata": {},
   "outputs": [
    {
     "name": "stdout",
     "output_type": "stream",
     "text": [
      "trace rho:  (0.9999999999999988+0j)\n",
      "trace sigma:  (0.9999999999999989+0j)\n",
      "fidelity between naive and gijs:  0.9880344506326376\n",
      "trace rho:  (0.9999999999999988+0j)\n",
      "trace sigma:  (0.9999999999999986+0j)\n",
      "fidelity between naive and my:  0.9875677850141698\n",
      "trace rho:  (0.9999999999999989+0j)\n",
      "trace sigma:  (0.9999999999999986+0j)\n",
      "fidelity between gijs and my:  0.9881678236579732\n"
     ]
    }
   ],
   "source": [
    "\n",
    "\n",
    "print('fidelity between naive and gijs: ', Fidelity(naiveDMList[0][0].data, gijsDMList[0][0].data))\n",
    "\n",
    "print('fidelity between naive and my: ', Fidelity(naiveDMList[0][0].data, myDMList[0][0].data))\n",
    "\n",
    "print('fidelity between gijs and my: ', Fidelity(gijsDMList[0][0].data, myDMList[0][0].data))"
   ]
  },
  {
   "cell_type": "code",
   "execution_count": null,
   "metadata": {},
   "outputs": [],
   "source": []
  }
 ],
 "metadata": {
  "kernelspec": {
   "display_name": "code",
   "language": "python",
   "name": "python3"
  },
  "language_info": {
   "codemirror_mode": {
    "name": "ipython",
    "version": 3
   },
   "file_extension": ".py",
   "mimetype": "text/x-python",
   "name": "python",
   "nbconvert_exporter": "python",
   "pygments_lexer": "ipython3",
   "version": "3.9.19"
  }
 },
 "nbformat": 4,
 "nbformat_minor": 2
}
