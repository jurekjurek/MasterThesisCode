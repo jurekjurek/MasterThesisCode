{
 "cells": [
  {
   "cell_type": "code",
   "execution_count": 1,
   "metadata": {},
   "outputs": [],
   "source": [
    "import numpy as np\n",
    "from qiskit import QuantumCircuit \n",
    "import qiskit.quantum_info as qi"
   ]
  },
  {
   "cell_type": "code",
   "execution_count": 2,
   "metadata": {},
   "outputs": [
    {
     "data": {
      "text/html": [
       "<pre style=\"word-wrap: normal;white-space: pre;background: #fff0;line-height: 1.1;font-family: &quot;Courier New&quot;,Courier,monospace\">     ┌───┐\n",
       "q_0: ┤ H ├\n",
       "     ├───┤\n",
       "q_1: ┤ H ├\n",
       "     └───┘</pre>"
      ],
      "text/plain": [
       "     ┌───┐\n",
       "q_0: ┤ H ├\n",
       "     ├───┤\n",
       "q_1: ┤ H ├\n",
       "     └───┘"
      ]
     },
     "execution_count": 2,
     "metadata": {},
     "output_type": "execute_result"
    }
   ],
   "source": [
    "\n",
    "qc = QuantumCircuit(2)\n",
    "qc.h([0,1])\n",
    "qc.draw()"
   ]
  },
  {
   "cell_type": "code",
   "execution_count": 3,
   "metadata": {},
   "outputs": [],
   "source": [
    "psi = qi.Statevector(qc)"
   ]
  },
  {
   "cell_type": "code",
   "execution_count": 4,
   "metadata": {},
   "outputs": [
    {
     "data": {
      "text/plain": [
       "array([[0.25+0.j, 0.25+0.j, 0.25+0.j, 0.25+0.j],\n",
       "       [0.25+0.j, 0.25+0.j, 0.25+0.j, 0.25+0.j],\n",
       "       [0.25+0.j, 0.25+0.j, 0.25+0.j, 0.25+0.j],\n",
       "       [0.25+0.j, 0.25+0.j, 0.25+0.j, 0.25+0.j]])"
      ]
     },
     "execution_count": 4,
     "metadata": {},
     "output_type": "execute_result"
    }
   ],
   "source": [
    "rho = qi.DensityMatrix(qc)\n",
    "rho.data"
   ]
  },
  {
   "cell_type": "code",
   "execution_count": 5,
   "metadata": {},
   "outputs": [
    {
     "data": {
      "text/plain": [
       "(0.9999999999999994+0j)"
      ]
     },
     "execution_count": 5,
     "metadata": {},
     "output_type": "execute_result"
    }
   ],
   "source": [
    "qi.purity(rho)"
   ]
  },
  {
   "cell_type": "code",
   "execution_count": 6,
   "metadata": {},
   "outputs": [
    {
     "data": {
      "text/plain": [
       "(0.25+0j)"
      ]
     },
     "execution_count": 6,
     "metadata": {},
     "output_type": "execute_result"
    }
   ],
   "source": [
    "# create completely mixed state \n",
    "rho = 1/4 * (qi.DensityMatrix.from_label('00') + qi.DensityMatrix.from_label('01') + qi.DensityMatrix.from_label('10') + qi.DensityMatrix.from_label('11'))\n",
    "\n",
    "qi.purity(rho)\n"
   ]
  },
  {
   "cell_type": "code",
   "execution_count": 7,
   "metadata": {},
   "outputs": [
    {
     "name": "stderr",
     "output_type": "stream",
     "text": [
      "/tmp/ipykernel_21284/2876680546.py:5: DeprecationWarning: The method ``qiskit.circuit.quantumcircuit.QuantumCircuit.cnot()`` is deprecated as of qiskit 0.45.0. It will be removed no earlier than 3 months after the release date. Use QuantumCircuit.cx as direct replacement.\n",
      "  qc.cnot(1,0)\n"
     ]
    },
    {
     "data": {
      "text/html": [
       "<pre style=\"word-wrap: normal;white-space: pre;background: #fff0;line-height: 1.1;font-family: &quot;Courier New&quot;,Courier,monospace\">     ┌───┐     \n",
       "q_1: ┤ H ├──■──\n",
       "     └───┘┌─┴─┐\n",
       "q_0: ─────┤ X ├\n",
       "          └───┘</pre>"
      ],
      "text/plain": [
       "     ┌───┐     \n",
       "q_1: ┤ H ├──■──\n",
       "     └───┘┌─┴─┐\n",
       "q_0: ─────┤ X ├\n",
       "          └───┘"
      ]
     },
     "execution_count": 7,
     "metadata": {},
     "output_type": "execute_result"
    }
   ],
   "source": [
    "# consider the bell state: \n",
    "\n",
    "qc = QuantumCircuit(2)\n",
    "qc.h(1)\n",
    "qc.cnot(1,0)\n",
    "\n",
    "qc.draw(reverse_bits=True)"
   ]
  },
  {
   "cell_type": "code",
   "execution_count": 8,
   "metadata": {},
   "outputs": [
    {
     "name": "stdout",
     "output_type": "stream",
     "text": [
      "Statevector([0.70710678+0.j, 0.        +0.j, 0.        +0.j,\n",
      "             0.70710678+0.j],\n",
      "            dims=(2, 2))\n"
     ]
    }
   ],
   "source": [
    "psi = qi.Statevector(qc)\n",
    "psi"
   ]
  },
  {
   "cell_type": "code",
   "execution_count": 9,
   "metadata": {},
   "outputs": [
    {
     "name": "stdout",
     "output_type": "stream",
     "text": [
      "DensityMatrix([[0.5+0.j, 0. +0.j, 0. +0.j, 0.5+0.j],\n",
      "               [0. +0.j, 0. +0.j, 0. +0.j, 0. +0.j],\n",
      "               [0. +0.j, 0. +0.j, 0. +0.j, 0. +0.j],\n",
      "               [0.5+0.j, 0. +0.j, 0. +0.j, 0.5+0.j]],\n",
      "              dims=(2, 2))\n"
     ]
    }
   ],
   "source": [
    "rho = qi.DensityMatrix(qc)\n",
    "rho"
   ]
  },
  {
   "cell_type": "code",
   "execution_count": 10,
   "metadata": {},
   "outputs": [
    {
     "name": "stdout",
     "output_type": "stream",
     "text": [
      "(0.9999999999999996+0j)\n",
      "1.4415419267167124e-15\n"
     ]
    }
   ],
   "source": [
    "print(qi.purity(rho))\n",
    "print(qi.entropy(rho))"
   ]
  },
  {
   "cell_type": "code",
   "execution_count": 11,
   "metadata": {},
   "outputs": [],
   "source": [
    "# now, take partial trace of circuit \n",
    "\n",
    "test = qi.partial_trace(rho, [1])\n",
    "\n"
   ]
  },
  {
   "cell_type": "code",
   "execution_count": 12,
   "metadata": {},
   "outputs": [
    {
     "name": "stderr",
     "output_type": "stream",
     "text": [
      "/tmp/ipykernel_21284/790810453.py:3: DeprecationWarning: The method ``qiskit.circuit.quantumcircuit.QuantumCircuit.cnot()`` is deprecated as of qiskit 0.45.0. It will be removed no earlier than 3 months after the release date. Use QuantumCircuit.cx as direct replacement.\n",
      "  qc.cnot(1,0)\n"
     ]
    },
    {
     "data": {
      "text/html": [
       "<pre style=\"word-wrap: normal;white-space: pre;background: #fff0;line-height: 1.1;font-family: &quot;Courier New&quot;,Courier,monospace\">     ┌───┐     \n",
       "q_1: ┤ H ├──■──\n",
       "     └───┘┌─┴─┐\n",
       "q_0: ─────┤ X ├\n",
       "          └───┘</pre>"
      ],
      "text/plain": [
       "     ┌───┐     \n",
       "q_1: ┤ H ├──■──\n",
       "     └───┘┌─┴─┐\n",
       "q_0: ─────┤ X ├\n",
       "          └───┘"
      ]
     },
     "execution_count": 12,
     "metadata": {},
     "output_type": "execute_result"
    }
   ],
   "source": [
    "qc = QuantumCircuit(2)\n",
    "qc.h(1)\n",
    "qc.cnot(1,0)\n",
    "\n",
    "qc.draw(reverse_bits=True)"
   ]
  },
  {
   "cell_type": "code",
   "execution_count": 13,
   "metadata": {},
   "outputs": [],
   "source": [
    "dm = qi.DensityMatrix(qc)"
   ]
  },
  {
   "cell_type": "code",
   "execution_count": 14,
   "metadata": {},
   "outputs": [],
   "source": [
    "dm1 = qi.partial_trace(dm, [0])"
   ]
  },
  {
   "cell_type": "code",
   "execution_count": 15,
   "metadata": {},
   "outputs": [
    {
     "name": "stdout",
     "output_type": "stream",
     "text": [
      "DensityMatrix([[0.5+0.j, 0. +0.j],\n",
      "               [0. +0.j, 0.5+0.j]],\n",
      "              dims=(2,))\n",
      "DensityMatrix([[0.5+0.j, 0. +0.j, 0. +0.j, 0. +0.j, 0. +0.j, 0. +0.j,\n",
      "                0. +0.j, 0. +0.j],\n",
      "               [0. +0.j, 0. +0.j, 0. +0.j, 0. +0.j, 0. +0.j, 0. +0.j,\n",
      "                0. +0.j, 0. +0.j],\n",
      "               [0. +0.j, 0. +0.j, 0. +0.j, 0. +0.j, 0. +0.j, 0. +0.j,\n",
      "                0. +0.j, 0. +0.j],\n",
      "               [0. +0.j, 0. +0.j, 0. +0.j, 0. +0.j, 0. +0.j, 0. +0.j,\n",
      "                0. +0.j, 0. +0.j],\n",
      "               [0. +0.j, 0. +0.j, 0. +0.j, 0. +0.j, 0.5+0.j, 0. +0.j,\n",
      "                0. +0.j, 0. +0.j],\n",
      "               [0. +0.j, 0. +0.j, 0. +0.j, 0. +0.j, 0. +0.j, 0. +0.j,\n",
      "                0. +0.j, 0. +0.j],\n",
      "               [0. +0.j, 0. +0.j, 0. +0.j, 0. +0.j, 0. +0.j, 0. +0.j,\n",
      "                0. +0.j, 0. +0.j],\n",
      "               [0. +0.j, 0. +0.j, 0. +0.j, 0. +0.j, 0. +0.j, 0. +0.j,\n",
      "                0. +0.j, 0. +0.j]],\n",
      "              dims=(2, 2, 2))\n"
     ]
    }
   ],
   "source": [
    "# dm1 is what we are working with \n",
    "print(dm1)\n",
    "\n",
    "newDM = qi.DensityMatrix.from_label('00')\n",
    "\n",
    "# dm1 \\otimes newDM\n",
    "finalDM = newDM.expand(dm1)\n",
    "\n",
    "print(finalDM)\n"
   ]
  },
  {
   "cell_type": "code",
   "execution_count": 16,
   "metadata": {},
   "outputs": [
    {
     "name": "stdout",
     "output_type": "stream",
     "text": [
      "     ┌───┐                ┌───┐\n",
      "q_0: ┤ H ├─────────────■──┤ X ├\n",
      "     ├───┤┌─────────┐┌─┴─┐└─┬─┘\n",
      "q_1: ┤ H ├┤ Ry(0.9) ├┤ X ├──┼──\n",
      "     ├───┤└┬───────┬┘└───┘  │  \n",
      "q_2: ┤ H ├─┤ Rx(1) ├────────■──\n",
      "     └───┘ └───────┘           \n"
     ]
    }
   ],
   "source": [
    "qc = QuantumCircuit(3)\n",
    "qc.h(0)\n",
    "qc.h(1)\n",
    "qc.h(2)\n",
    "qc.rx(1,2)\n",
    "qc.ry(0.9, 1)\n",
    "qc.cx(0,1)\n",
    "qc.cx(2,0)\n",
    "\n",
    "newDM = finalDM.evolve(qc)\n",
    "\n",
    "print(qc)\n"
   ]
  },
  {
   "cell_type": "code",
   "execution_count": 17,
   "metadata": {},
   "outputs": [
    {
     "name": "stdout",
     "output_type": "stream",
     "text": [
      "e before measure:  1.0000000000000007\n",
      "00\n",
      "1.0000000000000002\n"
     ]
    }
   ],
   "source": [
    "# dm1 = qi.partial_trace(newDM, [0])\n",
    "# print(newDM)\n",
    "print('e before measure: ', qi.entropy(newDM))\n",
    "\n",
    "test = newDM\n",
    "\n",
    "outcome, finalDM = newDM.measure([0,1])\n",
    "\n",
    "print(outcome)\n",
    "\n",
    "finalDM = qi.partial_trace(newDM, [0,1])\n",
    "# print(newDM)\n",
    "print(qi.entropy(finalDM))\n"
   ]
  },
  {
   "cell_type": "code",
   "execution_count": 18,
   "metadata": {},
   "outputs": [
    {
     "name": "stdout",
     "output_type": "stream",
     "text": [
      "DensityMatrix([[0.5+0.j, 0. +0.j],\n",
      "               [0. +0.j, 0.5+0.j]],\n",
      "              dims=(2,))\n",
      "(0.9999999999999998+0j)\n",
      "(0.4999999999999998+0j)\n",
      "0.6931471805599454\n"
     ]
    }
   ],
   "source": [
    "print(dm1)\n",
    "\n",
    "\n",
    "print(np.trace(dm1))\n",
    "print(qi.purity(dm1))\n",
    "\n",
    "print(qi.entropy(dm1, base = np.e))"
   ]
  },
  {
   "cell_type": "code",
   "execution_count": 19,
   "metadata": {},
   "outputs": [
    {
     "data": {
      "text/html": [
       "<pre style=\"word-wrap: normal;white-space: pre;background: #fff0;line-height: 1.1;font-family: &quot;Courier New&quot;,Courier,monospace\">     ┌───────────┐              ┌───┐               ┌───┐\n",
       "q_0: ┤ Ry(3π/10) ├──────■───────┤ X ├───────■───────┤ X ├\n",
       "     └───────────┘┌─────┴──────┐└───┘┌──────┴──────┐└───┘\n",
       "q_1: ─────────────┤ Ry(-3π/10) ├─────┤ Ry(-1.0681) ├─────\n",
       "                  └────────────┘     └─────────────┘     </pre>"
      ],
      "text/plain": [
       "     ┌───────────┐              ┌───┐               ┌───┐\n",
       "q_0: ┤ Ry(3π/10) ├──────■───────┤ X ├───────■───────┤ X ├\n",
       "     └───────────┘┌─────┴──────┐└───┘┌──────┴──────┐└───┘\n",
       "q_1: ─────────────┤ Ry(-3π/10) ├─────┤ Ry(-1.0681) ├─────\n",
       "                  └────────────┘     └─────────────┘     "
      ]
     },
     "execution_count": 19,
     "metadata": {},
     "output_type": "execute_result"
    }
   ],
   "source": [
    "qc = QuantumCircuit(2)\n",
    "qc.ry(0.15 *2*np.pi, 0)\n",
    "qc.cry(-0.15 *2*np.pi, 0, 1)\n",
    "qc.x(0)\n",
    "qc.cry(-0.17 *2*np.pi, 0, 1)\n",
    "qc.x(0)\n",
    "qc.draw()"
   ]
  },
  {
   "cell_type": "code",
   "execution_count": 20,
   "metadata": {},
   "outputs": [
    {
     "name": "stdout",
     "output_type": "stream",
     "text": [
      "Statevector([ 0.76692676+0.j,  0.4045085 +0.j, -0.45355922+0.j,\n",
      "             -0.20610737+0.j],\n",
      "            dims=(2, 2))\n",
      "Statevector([ 0.76692676+0.j, -0.45355922+0.j,  0.4045085 +0.j,\n",
      "             -0.20610737+0.j],\n",
      "            dims=(2, 2))\n"
     ]
    }
   ],
   "source": [
    "from qiskit.quantum_info import Statevector\n",
    "\n",
    "sV = Statevector.from_label('00')\n",
    "newSV = sV.evolve(qc)\n",
    "print(newSV)\n",
    "\n",
    "# print(qc.reverse_bits())\n",
    "\n",
    "sV = Statevector.from_label('00')\n",
    "thirdSV = sV.evolve(qc.reverse_bits())\n",
    "print(thirdSV)"
   ]
  },
  {
   "cell_type": "code",
   "execution_count": 21,
   "metadata": {},
   "outputs": [
    {
     "name": "stdout",
     "output_type": "stream",
     "text": [
      "Statevector([1.+0.j, 0.+0.j],\n",
      "            dims=(2,))\n",
      "Statevector([ 0.70710678+0.j, -0.70710678+0.j],\n",
      "            dims=(2,))\n"
     ]
    }
   ],
   "source": [
    "qc = QuantumCircuit(1)\n",
    "qc.ry(-np.pi/2, 0)\n",
    "\n",
    "sv = Statevector.from_label('0')\n",
    "print(sv)\n",
    "nsv = sv.evolve(qc)\n",
    "print(nsv)"
   ]
  },
  {
   "cell_type": "code",
   "execution_count": 80,
   "metadata": {},
   "outputs": [
    {
     "name": "stdout",
     "output_type": "stream",
     "text": [
      "     ┌───┐                     ┌───┐┌─┐    statevector \n",
      "q_0: ┤ X ├──────────────────■──┤ H ├┤M├─────────░──────\n",
      "     ├───┤           ┌───┐┌─┴─┐└───┘└╥┘┌─┐      ░      \n",
      "q_1: ┤ H ├─────■─────┤ H ├┤ X ├──────╫─┤M├──────░──────\n",
      "     ├───┤┌────┴────┐├───┤└───┘      ║ └╥┘      ░      \n",
      "q_2: ┤ H ├┤ Rx(π/2) ├┤ H ├───────────╫──╫───────░──────\n",
      "     └───┘└─────────┘└───┘           ║  ║       ░      \n",
      "c: 1/════════════════════════════════╩══╩══════════════\n",
      "                                     0  0              \n"
     ]
    }
   ],
   "source": [
    "qc = QuantumCircuit(3, 1)\n",
    "qc.x(0)\n",
    "qc.h(1)\n",
    "qc.h(2)\n",
    "qc.crx(np.pi/2, 1,2)\n",
    "qc.h(1)\n",
    "qc.h(2)\n",
    "qc.cx(0,1)\n",
    "qc.h(0)\n",
    "qc.measure(0,0)\n",
    "qc.measure(1,0)\n",
    "qc.save_statevector()\n",
    "\n",
    "print(qc)\n"
   ]
  },
  {
   "cell_type": "code",
   "execution_count": 81,
   "metadata": {},
   "outputs": [],
   "source": [
    "from qiskit import QuantumCircuit, transpile, Aer"
   ]
  },
  {
   "cell_type": "code",
   "execution_count": 82,
   "metadata": {},
   "outputs": [
    {
     "name": "stdout",
     "output_type": "stream",
     "text": [
      "DensityMatrix([[ 1.00000000e+00+0.00000000e+00j,\n",
      "                -1.43539982e-16-1.24491566e-16j],\n",
      "               [-1.43539982e-16+1.24491566e-16j,\n",
      "                 3.61018765e-32+0.00000000e+00j]],\n",
      "              dims=(2,))\n"
     ]
    }
   ],
   "source": [
    "simulator = Aer.get_backend('aer_simulator_statevector')\n",
    "\n",
    "result = simulator.run(transpile(qc, simulator)).result()\n",
    "psi = result.get_statevector(qc)\n",
    "\n",
    "psi.probabilities()\n",
    "\n",
    "import qiskit.quantum_info as qi \n",
    "\n",
    "test = qi.partial_trace(psi, [0,1])\n",
    "print(test)\n",
    "# print(test.to_statevector())"
   ]
  },
  {
   "cell_type": "code",
   "execution_count": 137,
   "metadata": {},
   "outputs": [
    {
     "name": "stdout",
     "output_type": "stream",
     "text": [
      "     ┌───┐           ┌───┐                 \n",
      "q_0: ┤ H ├────■──────┤ H ├─────────────────\n",
      "     ├───┤┌───┴───┐  └───┘  ┌───┐          \n",
      "q_1: ┤ H ├┤ Rz(π) ├────■────┤ H ├──────────\n",
      "     ├───┤└───────┘┌───┴───┐├───┤     ┌───┐\n",
      "q_2: ┤ H ├─────────┤ Rz(0) ├┤ H ├──■──┤ H ├\n",
      "     └───┘         └───────┘└───┘┌─┴─┐└───┘\n",
      "q_3: ────────────────────────────┤ X ├─────\n",
      "                                 └───┘     \n"
     ]
    }
   ],
   "source": [
    "testQC = QuantumCircuit(4)\n",
    "testQC.h(0)\n",
    "testQC.h(1)\n",
    "testQC.h(2)\n",
    "\n",
    "testQC.crz(np.pi,0,1)\n",
    "testQC.crz(0,1,2)\n",
    "# testQC.crz(np.pi,2,3)\n",
    "\n",
    "testQC.h(0)\n",
    "testQC.h(1)\n",
    "testQC.h(2)\n",
    "\n",
    "testQC.cx(2,3)\n",
    "\n",
    "testQC.h(2)\n",
    "\n",
    "# testQC.save_statevector()\n",
    "print(testQC)"
   ]
  },
  {
   "cell_type": "code",
   "execution_count": 138,
   "metadata": {},
   "outputs": [
    {
     "name": "stdout",
     "output_type": "stream",
     "text": [
      "{'0000': 0.1249999999999999, '0001': 0.12499999999999982, '0010': 0.12499999999999986, '0011': 0.12499999999999986, '0100': 0.1249999999999999, '0101': 0.12499999999999982, '0110': 0.12499999999999986, '0111': 0.12499999999999986, '1000': 4.841160024465867e-38, '1001': 9.905431868887829e-36, '1010': 6.971325259304496e-35, '1011': 6.971325259304496e-35, '1100': 4.841160024465867e-38, '1101': 9.905431868887829e-36, '1110': 6.971325259304496e-35, '1111': 6.971325259304496e-35}\n"
     ]
    }
   ],
   "source": [
    "# result = simulator.run(transpile(testQC, simulator)).result()\n",
    "# psi = result.get_statevector(testQC)\n",
    "\n",
    "\n",
    "psi = Statevector.from_label('0000')\n",
    "psi = psi.evolve(testQC)\n",
    "\n",
    "print(psi.probabilities_dict())\n",
    "\n",
    "import qiskit.quantum_info as qi \n",
    "\n",
    "\n",
    "\n",
    "# psi = psi.measure([0, 2, 3])\n",
    "# print(psi)\n",
    "# test = qi.partial_trace(psi[1], [0, 2, 3])\n",
    "# print(test)\n",
    "# test.draw(output = 'latex')\n",
    "\n",
    "# print(test)\n",
    "\n",
    "# print(test.to_statevector())"
   ]
  },
  {
   "cell_type": "code",
   "execution_count": null,
   "metadata": {},
   "outputs": [],
   "source": []
  }
 ],
 "metadata": {
  "kernelspec": {
   "display_name": "code",
   "language": "python",
   "name": "python3"
  },
  "language_info": {
   "codemirror_mode": {
    "name": "ipython",
    "version": 3
   },
   "file_extension": ".py",
   "mimetype": "text/x-python",
   "name": "python",
   "nbconvert_exporter": "python",
   "pygments_lexer": "ipython3",
   "version": "3.9.19"
  }
 },
 "nbformat": 4,
 "nbformat_minor": 2
}
