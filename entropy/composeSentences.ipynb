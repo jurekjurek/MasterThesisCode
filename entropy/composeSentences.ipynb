{
 "cells": [
  {
   "cell_type": "code",
   "execution_count": 1,
   "metadata": {},
   "outputs": [
    {
     "data": {
      "text/plain": [
       "'\\nIn this file, we compose density matrices belonging to different sentences according to three methods: \\n\\nSpider and \\n\\nFuzz \\n\\nPhaser \\n'"
      ]
     },
     "execution_count": 1,
     "metadata": {},
     "output_type": "execute_result"
    }
   ],
   "source": [
    "'''\n",
    "In this file, we compose density matrices belonging to different sentences according to three methods: \n",
    "\n",
    "Spider and \n",
    "\n",
    "Fuzz \n",
    "\n",
    "Phaser \n",
    "'''\n",
    "'''\n",
    "start by importing all sorts of stuff\n",
    "'''\n",
    "\n",
    "\n",
    "import numpy as np\n",
    "from sympy import Symbol, symbols\n",
    "\n",
    "from lambeq.ansatz import BaseAnsatz\n",
    "from lambeq.backend.grammar import Box, Diagram, Functor, Ty\n",
    "from lambeq.backend.quantum import (\n",
    "    Bra,\n",
    "    CRz,\n",
    "    Diagram as Circuit,\n",
    "    Discard,\n",
    "    H,\n",
    "    CX,\n",
    "    Id,\n",
    "    Ket,\n",
    "    quantum,\n",
    "    qubit,\n",
    "    Rotation,\n",
    "    Rx, Ry, Rz\n",
    ")\n",
    "\n",
    "from lambeq import AtomicType\n",
    "import qiskit.quantum_info as qi\n",
    "from qiskit import QuantumCircuit"
   ]
  },
  {
   "cell_type": "code",
   "execution_count": 3,
   "metadata": {},
   "outputs": [],
   "source": [
    "def SpectralDecomposition(rho):\n",
    "\n",
    "    eigenvalues, eigenvectors = np.linalg.eig(rho)\n",
    "    # rhoDiagonalized = np.diag(eigenvalues)\n",
    "\n",
    "    normalizedEvs = []\n",
    "    for eV in eigenvectors: \n",
    "        print('the vector is ', eV)\n",
    "        print('andthe abs is: ', np.linalg.norm(eV))\n",
    "        normalizedEvs.append(eV / np.linalg.norm(eV))\n",
    "\n",
    "\n",
    "    projectors = []\n",
    "\n",
    "    for eV in normalizedEvs: \n",
    "        print(eV)\n",
    "        print(np.transpose(eV))\n",
    "        projectors.append(np.outer(np.transpose(eV), eV))\n",
    "\n",
    "    return eigenvalues, projectors\n",
    "\n",
    "    \n"
   ]
  },
  {
   "cell_type": "code",
   "execution_count": 1,
   "metadata": {},
   "outputs": [],
   "source": [
    " def SpiderAnd(rho, sigma): \n",
    "    '''\n",
    "    ...\n",
    "    '''\n",
    "    return np.matmul(rho, sigma)\n",
    "\n",
    "def Fuzz(rho, sigma): \n",
    "    '''\n",
    "    ...\n",
    "    '''\n",
    "    eVList, projectors = SpectralDecomposition(sigma)\n",
    "\n",
    "    termOne = eVList[0] * ( np.matmul(projectors[0], np.matmul(rho, projectors[0])) ) \n",
    "    termTwo = eVList[1] * ( np.matmul(projectors[1], np.matmul(rho, projectors[1])) ) \n",
    "\n",
    "    return termOne + termTwo\n",
    "\n",
    "\n",
    "def Phaser(rho, sigma): \n",
    "    '''\n",
    "    ...\n",
    "    '''\n",
    "    return np.matmul(np.sqrt(sigma), np.matmul(rho, np.sqrt(sigma)))"
   ]
  },
  {
   "cell_type": "code",
   "execution_count": null,
   "metadata": {},
   "outputs": [],
   "source": [
    "sentencePairOne  = ['person prepares meal', 'person eats meal']"
   ]
  }
 ],
 "metadata": {
  "kernelspec": {
   "display_name": "code",
   "language": "python",
   "name": "python3"
  },
  "language_info": {
   "codemirror_mode": {
    "name": "ipython",
    "version": 3
   },
   "file_extension": ".py",
   "mimetype": "text/x-python",
   "name": "python",
   "nbconvert_exporter": "python",
   "pygments_lexer": "ipython3",
   "version": "3.9.19"
  }
 },
 "nbformat": 4,
 "nbformat_minor": 2
}
