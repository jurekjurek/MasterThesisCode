{
 "cells": [
  {
   "cell_type": "code",
   "execution_count": 1,
   "metadata": {},
   "outputs": [
    {
     "name": "stdout",
     "output_type": "stream",
     "text": [
      "1.7553455388820218 2.5423125025781075\n"
     ]
    }
   ],
   "source": [
    "'''\n",
    "We find the parameters of the two rotations that amplitude encode a four dimensional vector onto two qubits \n",
    "'''\n",
    "\n",
    "import numpy as np \n",
    "import math\n",
    "\n",
    "def FindTwoParameters(classicalArray: np.array) -> np.array:\n",
    "    '''\n",
    "    Given a classical array, this function returns two parameters parametrizing two rotations in a circuit\n",
    "    '''\n",
    "\n",
    "    # normalize vector \n",
    "    classicalArray = classicalArray / np.linalg.norm(classicalArray)\n",
    "\n",
    "    partOne = classicalArray[:2]\n",
    "    partTwo = classicalArray[2:]\n",
    "\n",
    "    # check if two parameters are equal \n",
    "    thetaV1 = 2 * math.acos(math.sqrt( np.linalg.norm(partOne) ))\n",
    "\n",
    "    thetaV2 = 2 * math.asin(math.sqrt( np.linalg.norm(partTwo) ))\n",
    "\n",
    "    print(thetaV1, thetaV2)\n",
    "\n",
    "FindTwoParameters(np.array([1,2,3,4]))\n",
    "\n"
   ]
  },
  {
   "cell_type": "code",
   "execution_count": 6,
   "metadata": {},
   "outputs": [
    {
     "name": "stdout",
     "output_type": "stream",
     "text": [
      "normalized array:  [0.03333333 0.13333333 0.3        0.53333333]\n",
      "2.300523983021863 1.8545904360032246 2.214297435588181\n",
      "        ┌──────────────────┐┌────────────┐              ┌───┐              »\n",
      "   q_0: ┤0                 ├┤ Ry(2.3005) ├──────■───────┤ X ├──────■───────»\n",
      "        │  Initialize(0,0) │└────────────┘┌─────┴──────┐└───┘┌─────┴──────┐»\n",
      "   q_1: ┤1                 ├──────────────┤ Ry(1.8546) ├─────┤ Ry(2.2143) ├»\n",
      "        └──────────────────┘              └────────────┘     └────────────┘»\n",
      "meas: 2/═══════════════════════════════════════════════════════════════════»\n",
      "                                                                           »\n",
      "«        ┌───┐ ░ ┌─┐   \n",
      "«   q_0: ┤ X ├─░─┤M├───\n",
      "«        └───┘ ░ └╥┘┌─┐\n",
      "«   q_1: ──────░──╫─┤M├\n",
      "«              ░  ║ └╥┘\n",
      "«meas: 2/═════════╩══╩═\n",
      "«                 0  1 \n"
     ]
    }
   ],
   "source": [
    "def noun_ansatz(classicalArray):\n",
    "\n",
    "    # normalize vector \n",
    "    classicalArray = classicalArray / np.linalg.norm(classicalArray)\n",
    "\n",
    "    print('normalized array: ', classicalArray**2)\n",
    "\n",
    "    a1 = np.linalg.norm(classicalArray[0:2])\n",
    "    a2 = np.linalg.norm(classicalArray[2:])\n",
    "    phi1 = 2 * math.acos(a1)\n",
    "\n",
    "    # fix issues with rotations\n",
    "    rot1 = classicalArray[0:2]/a1\n",
    "    phi2_cos = 2 * math.acos(rot1[0])\n",
    "    phi2_sin = 2 * math.asin(rot1[1])\n",
    "    if not np.sign(phi2_cos) == np.sign(phi2_sin):\n",
    "        phi2_cos *= -1\n",
    "    rot2 = classicalArray[2: ]/a2\n",
    "    phi3_cos = 2 * math.acos(rot2[0])\n",
    "    phi3_sin = 2 * math.asin(rot2[1])\n",
    "    if not np.sign(phi3_cos) == np.sign(phi3_sin):\n",
    "        phi3_cos *= -1\n",
    "\n",
    "    return phi1, phi3_cos, phi2_cos\n",
    "\n",
    "\n",
    "\n",
    "# test if the amplitude encoding works \n",
    "from qiskit import QuantumCircuit\n",
    "\n",
    "theta1, theta2, theta3 = noun_ansatz(np.array([1,2,3,4]))\n",
    "\n",
    "print(theta1, theta2, theta3)\n",
    "\n",
    "qc = QuantumCircuit(2)\n",
    "\n",
    "qc.initialize('00')\n",
    "\n",
    "qc.ry(theta1, 0)\n",
    "qc.cry(theta2, 0, 1)\n",
    "qc.x(0)\n",
    "qc.cry(theta3, 0, 1)\n",
    "qc.x(0)\n",
    "\n",
    "\n",
    "\n",
    "qc.measure_all()\n",
    "\n",
    "# qc = qc.decompose(reps = 1)\n",
    "\n",
    "print(qc)\n",
    "\n",
    "\n",
    "\n",
    "\n"
   ]
  },
  {
   "cell_type": "code",
   "execution_count": 5,
   "metadata": {},
   "outputs": [
    {
     "data": {
      "text/plain": [
       "{'00': 0.03324, '10': 0.13328, '01': 0.29857, '11': 0.53491}"
      ]
     },
     "execution_count": 5,
     "metadata": {},
     "output_type": "execute_result"
    }
   ],
   "source": [
    "from qiskit import Aer, execute\n",
    "\n",
    "\n",
    "# Use the Aer simulator to execute the circuit\n",
    "simulator = Aer.get_backend('qasm_simulator')\n",
    "shots = 100000  # Number of times to run the circuit\n",
    "job = execute(qc, simulator, shots=shots)  # Execute the circuit\n",
    "result = job.result()\n",
    "counts = result.get_counts(qc)\n",
    "\n",
    "\n",
    "\n",
    "# Calculate the probability distribution\n",
    "prob_dist = {state: counts[state] / shots for state in counts}\n",
    "\n",
    "prob_dist\n",
    "\n"
   ]
  },
  {
   "cell_type": "code",
   "execution_count": 57,
   "metadata": {},
   "outputs": [],
   "source": [
    "from qiskit import Aer\n",
    "\n",
    "backend = Aer.get_backend('aer_simulator')\n",
    "\n",
    "shots = 1024\n",
    "counts = backend.run(qc,shots=shots).result().get_counts()"
   ]
  },
  {
   "cell_type": "code",
   "execution_count": 59,
   "metadata": {},
   "outputs": [
    {
     "name": "stdout",
     "output_type": "stream",
     "text": [
      "{'11': 0.0009765625, '01': 0.0087890625, '10': 0.017578125, '00': 0.97265625}\n"
     ]
    }
   ],
   "source": [
    "probs = {string:count/shots for string,count in counts.items()}\n",
    "\n",
    "print(probs)"
   ]
  },
  {
   "cell_type": "code",
   "execution_count": 51,
   "metadata": {},
   "outputs": [
    {
     "data": {
      "text/plain": [
       "array([0., 0., 0., 0., 0., 0., 0., 0., 1., 0., 0., 0., 0., 0., 0., 0.])"
      ]
     },
     "execution_count": 51,
     "metadata": {},
     "output_type": "execute_result"
    }
   ],
   "source": [
    "from qiskit.quantum_info import Statevector\n",
    "\n",
    "stateVector = Statevector.from_label('1000')\n",
    "stateVector.evolve(qc)\n",
    "\n",
    "stateVector.probabilities()"
   ]
  },
  {
   "cell_type": "code",
   "execution_count": 46,
   "metadata": {},
   "outputs": [
    {
     "data": {
      "text/plain": [
       "array([1., 0.])"
      ]
     },
     "execution_count": 46,
     "metadata": {},
     "output_type": "execute_result"
    }
   ],
   "source": [
    "test = QuantumCircuit(1)\n",
    "# test.measure_all()\n",
    "\n",
    "Statevector(test).probabilities()"
   ]
  },
  {
   "cell_type": "code",
   "execution_count": null,
   "metadata": {},
   "outputs": [],
   "source": []
  }
 ],
 "metadata": {
  "kernelspec": {
   "display_name": "code",
   "language": "python",
   "name": "python3"
  },
  "language_info": {
   "codemirror_mode": {
    "name": "ipython",
    "version": 3
   },
   "file_extension": ".py",
   "mimetype": "text/x-python",
   "name": "python",
   "nbconvert_exporter": "python",
   "pygments_lexer": "ipython3",
   "version": "3.9.19"
  }
 },
 "nbformat": 4,
 "nbformat_minor": 2
}
