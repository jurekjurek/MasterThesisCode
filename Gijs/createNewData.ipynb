{
 "cells": [
  {
   "cell_type": "code",
   "execution_count": 13,
   "metadata": {},
   "outputs": [
    {
     "name": "stdout",
     "output_type": "stream",
     "text": [
      "['skillful man prepares sauce', 'skillful man bakes dinner', 'woman cooks tasty meal', 'man prepares meal', 'skillful woman reads program', 'woman prepares tasty meal', 'person runs program', 'person runs useful application', 'woman prepares sauce', 'woman prepares dinner', 'skillful person prepares meal', 'skillful person bakes dinner', 'skillful woman bakes meal', 'woman runs useful application', 'man bakes tasty meal', 'person prepares tasty meal', 'woman runs application', 'man prepares software', 'man bakes tasty dinner', 'person prepares useful program', 'man reads useful application', 'person reads useful application', 'woman prepares program', 'man prepares useful application', 'skillful man cooks dinner', 'man reads useful software', 'person cooks dinner', 'skillful woman prepares meal', 'man prepares application', 'person reads useful software', 'person runs application', 'skillful woman bakes sauce', 'skillful man bakes meal', 'woman cooks meal', 'woman bakes dinner', 'woman runs program', 'skillful man prepares program', 'skillful man cooks meal', 'woman runs software', 'skillful man reads software', 'man cooks dinner', 'woman cooks tasty dinner', 'woman cooks dinner', 'man bakes tasty sauce', 'man prepares dinner', 'skillful person cooks sauce', 'skillful man prepares software', 'person prepares software', 'person runs software', 'person prepares tasty sauce', 'skillful person bakes sauce', 'skillful man cooks sauce', 'man reads program', 'woman bakes tasty meal', 'man runs software', 'person prepares useful application', 'person cooks meal', 'woman reads software', 'skillful man runs software', 'person bakes tasty sauce', 'woman reads application', 'person bakes dinner', 'woman reads useful program', 'man cooks tasty meal', 'skillful person cooks meal', 'person cooks sauce', 'man cooks tasty sauce', 'skillful woman runs program', 'skillful person bakes meal', 'person runs useful program']\n",
      "['skillful person prepares application', 'man prepares tasty meal', 'man prepares tasty sauce', 'person bakes tasty meal', 'man prepares useful program', 'man runs program', 'person prepares dinner', 'man bakes sauce', 'woman prepares software', 'person prepares useful software', 'skillful person reads program', 'person reads application', 'person cooks tasty dinner', 'skillful person reads software', 'woman bakes tasty sauce', 'skillful woman runs software', 'skillful person prepares sauce', 'person reads useful program', 'man runs application', 'person prepares tasty dinner', 'woman reads useful software', 'man runs useful application', 'woman bakes tasty dinner', 'person prepares program', 'woman reads useful application', 'skillful woman prepares application', 'man reads application', 'woman prepares useful application', 'man reads useful program', 'woman cooks sauce']\n"
     ]
    }
   ],
   "source": [
    "'''\n",
    "We create a new dataset for investigating Gijs \n",
    "\n",
    "\n",
    "\n",
    "'''\n",
    "\n",
    "def read_data(filename):\n",
    "    labels, sentences = [], []\n",
    "    with open(filename) as f:\n",
    "        for line in f:\n",
    "            t = int(line[0])\n",
    "            labels.append([t, 1-t])\n",
    "            sentences.append(line[1:].strip())\n",
    "    return labels, sentences\n",
    "\n",
    "\n",
    "train_labels, train_data = read_data('../datasets/mc_train_data.txt')\n",
    "test_labels, test_data = read_data('../datasets/mc_test_data.txt')\n",
    "val_labels, val_data = read_data('../datasets/mc_dev_data.txt')\n",
    "\n",
    "\n",
    "# new way, maybe the things after the words confused lambeq in creating the diagrams \n",
    "with open('../datasets/newTestSentences.txt', 'r') as file: \n",
    "    test_data = file.readlines()\n",
    "with open('../datasets/newTrainSentences.txt', 'r') as file: \n",
    "    train_data = file.readlines()\n",
    "with open('../datasets/newValSentences.txt', 'r') as file: \n",
    "    val_data = file.readlines()\n",
    "\n",
    "test_data = [sentence.strip() for sentence in test_data]\n",
    "train_data = [sentence.strip() for sentence in train_data]\n",
    "val_data = [sentence.strip() for sentence in val_data]\n",
    "\n",
    "print(train_data)\n",
    "print(val_data)"
   ]
  },
  {
   "cell_type": "code",
   "execution_count": 2,
   "metadata": {},
   "outputs": [
    {
     "name": "stdout",
     "output_type": "stream",
     "text": [
      "['skillful man prepares sauce', 'skillful man bakes dinner', 'woman cooks tasty meal', 'man prepares meal', 'skillful woman reads program', 'woman prepares tasty meal', 'person runs program', 'person runs useful application', 'woman prepares sauce', 'woman prepares dinner', 'skillful person prepares meal', 'skillful person bakes dinner', 'skillful woman bakes meal', 'woman runs useful application', 'man bakes tasty meal', 'person prepares tasty meal', 'woman runs application', 'man prepares software', 'man bakes tasty dinner', 'person prepares useful program', 'man reads useful application', 'person reads useful application', 'woman prepares program', 'man prepares useful application', 'skillful man cooks dinner', 'man reads useful software', 'person cooks dinner', 'skillful woman prepares meal', 'man prepares application', 'person reads useful software', 'person runs application', 'skillful woman bakes sauce', 'skillful man bakes meal', 'woman cooks meal', 'woman bakes dinner', 'woman runs program', 'skillful man prepares program', 'skillful man cooks meal', 'woman runs software', 'skillful man reads software', 'man cooks dinner', 'woman cooks tasty dinner', 'woman cooks dinner', 'man bakes tasty sauce', 'man prepares dinner', 'skillful person cooks sauce', 'skillful man prepares software', 'person prepares software', 'person runs software', 'person prepares tasty sauce', 'skillful person bakes sauce', 'skillful man cooks sauce', 'man reads program', 'woman bakes tasty meal', 'man runs software', 'person prepares useful application', 'person cooks meal', 'woman reads software', 'skillful man runs software', 'person bakes tasty sauce', 'woman reads application', 'person bakes dinner', 'woman reads useful program', 'man cooks tasty meal', 'skillful person cooks meal', 'person cooks sauce', 'man cooks tasty sauce', 'skillful woman runs program', 'skillful person bakes meal', 'person runs useful program']\n"
     ]
    }
   ],
   "source": [
    "print(train_data)"
   ]
  },
  {
   "cell_type": "code",
   "execution_count": 14,
   "metadata": {},
   "outputs": [
    {
     "name": "stdout",
     "output_type": "stream",
     "text": [
      "['skillful chef prepares sauce', 'skillful chef bakes dinner', 'chef cooks tasty meal', 'chef prepares meal', 'skillful programmer reads program', 'chef prepares tasty meal', 'person runs program', 'person runs useful application', 'chef prepares sauce', 'chef prepares dinner', 'skillful person prepares meal', 'skillful person bakes dinner', 'skillful chef bakes meal', 'programmer runs useful application', 'chef bakes tasty meal', 'person prepares tasty meal', 'programmer runs application', 'programmer prepares software', 'chef bakes tasty dinner', 'person prepares useful program', 'programmer reads useful application', 'person reads useful application', 'programmer prepares program', 'programmer prepares useful application', 'skillful chef cooks dinner', 'programmer reads useful software', 'person cooks dinner', 'skillful chef prepares meal', 'programmer prepares application', 'person reads useful software', 'person runs application', 'skillful chef bakes sauce', 'skillful chef bakes meal', 'chef cooks meal', 'chef bakes dinner', 'programmer runs program', 'skillful programmer prepares program', 'skillful chef cooks meal', 'programmer runs software', 'skillful programmer reads software', 'chef cooks dinner', 'chef cooks tasty dinner', 'chef cooks dinner', 'chef bakes tasty sauce', 'chef prepares dinner', 'skillful person cooks sauce', 'skillful programmer prepares software', 'person prepares software', 'person runs software', 'person prepares tasty sauce', 'skillful person bakes sauce', 'skillful chef cooks sauce', 'programmer reads program', 'chef bakes tasty meal', 'programmer runs software', 'person prepares useful application', 'person cooks meal', 'programmer reads software', 'skillful programmer runs software', 'person bakes tasty sauce', 'programmer reads application', 'person bakes dinner', 'programmer reads useful program', 'chef cooks tasty meal', 'skillful person cooks meal', 'person cooks sauce', 'chef cooks tasty sauce', 'skillful programmer runs program', 'skillful person bakes meal', 'person runs useful program']\n",
      "['skillful person prepares application', 'chef prepares tasty meal', 'chef prepares tasty sauce', 'person bakes tasty meal', 'programmer prepares useful program', 'programmer runs program', 'person prepares dinner', 'chef bakes sauce', 'programmer prepares software', 'person prepares useful software', 'skillful person reads program', 'person reads application', 'person cooks tasty dinner', 'skillful person reads software', 'chef bakes tasty sauce', 'skillful programmer runs software', 'skillful person prepares sauce', 'person reads useful program', 'programmer runs application', 'person prepares tasty dinner', 'programmer reads useful software', 'programmer runs useful application', 'chef bakes tasty dinner', 'person prepares program', 'programmer reads useful application', 'skillful programmer prepares application', 'programmer reads application', 'programmer prepares useful application', 'programmer reads useful program', 'chef cooks sauce']\n"
     ]
    }
   ],
   "source": [
    "def ReplaceNouns(data):\n",
    "    for i in range(len(data)):\n",
    "        sentence = data[i] \n",
    "        wordList = sentence.split()\n",
    "\n",
    "        listOfCookingVerbs = ['cooks', 'bakes']\n",
    "        listOfITVerbs = ['reads', 'runs']\n",
    "\n",
    "        listOfCookingNouns = ['dinner', 'sauce', 'meal']\n",
    "        listOfITNouns = ['program', 'application', 'software']\n",
    "\n",
    "        # listOfWords = sentence.split()\n",
    "        # print(listOfWords)\n",
    "        if 'man' in wordList and not 'woman' in wordList: \n",
    "            if wordList[-1] in listOfCookingNouns: \n",
    "                data[i] = data[i].replace('man', 'chef')\n",
    "            elif wordList[-1] in listOfITNouns: \n",
    "                data[i] = data[i].replace('man', 'programmer')\n",
    "\n",
    "        if 'woman' in sentence:\n",
    "            if wordList[-1] in listOfCookingNouns:      \n",
    "                data[i] = data[i].replace('woman', 'chef')\n",
    "            elif wordList[-1] in listOfITNouns: \n",
    "                data[i] = data[i].replace('woman', 'programmer')\n",
    "\n",
    "        if 'person' in sentence:\n",
    "            continue\n",
    "    return data\n",
    "\n",
    "train_data = ReplaceNouns(train_data)\n",
    "test_data = ReplaceNouns(test_data)\n",
    "val_data = ReplaceNouns(val_data)\n",
    "\n",
    "print(train_data)\n",
    "\n",
    "print(val_data)\n",
    "\n"
   ]
  },
  {
   "cell_type": "code",
   "execution_count": 15,
   "metadata": {},
   "outputs": [],
   "source": [
    "with open('../datasets/trainGijs.txt', 'w') as file:\n",
    "    for sentence in train_data: \n",
    "        file.write(sentence + '\\n')\n",
    "\n",
    "with open('../datasets/testGijs.txt', 'w') as file:\n",
    "    for sentence in test_data: \n",
    "        file.write(sentence + '\\n')\n",
    "        \n",
    "with open('../datasets/valGijs.txt', 'w') as file:\n",
    "    for sentence in val_data: \n",
    "        file.write(sentence + '\\n')"
   ]
  },
  {
   "cell_type": "code",
   "execution_count": null,
   "metadata": {},
   "outputs": [],
   "source": []
  }
 ],
 "metadata": {
  "kernelspec": {
   "display_name": "code",
   "language": "python",
   "name": "python3"
  },
  "language_info": {
   "codemirror_mode": {
    "name": "ipython",
    "version": 3
   },
   "file_extension": ".py",
   "mimetype": "text/x-python",
   "name": "python",
   "nbconvert_exporter": "python",
   "pygments_lexer": "ipython3",
   "version": "3.9.19"
  }
 },
 "nbformat": 4,
 "nbformat_minor": 2
}
